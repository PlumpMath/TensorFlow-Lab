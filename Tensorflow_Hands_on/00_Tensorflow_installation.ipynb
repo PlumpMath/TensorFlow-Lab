{
 "cells": [
  {
   "cell_type": "code",
   "execution_count": 4,
   "metadata": {
    "collapsed": false,
    "scrolled": true
   },
   "outputs": [
    {
     "name": "stdout",
     "output_type": "stream",
     "text": [
      "Collecting tensorflow==0.11.0 from https://storage.googleapis.com/tensorflow/linux/cpu/tensorflow-0.11.0-cp27-none-linux_x86_64.whl\n",
      "  Downloading https://storage.googleapis.com/tensorflow/linux/cpu/tensorflow-0.11.0-cp27-none-linux_x86_64.whl (39.8MB)\n",
      "\u001b[K    100% |################################| 39.8MB 30kB/s \n",
      "\u001b[?25hCollecting mock>=2.0.0 (from tensorflow==0.11.0)\n",
      "  Downloading mock-2.0.0-py2.py3-none-any.whl (56kB)\n",
      "\u001b[K    100% |################################| 61kB 2.1MB/s \n",
      "\u001b[?25hCollecting protobuf==3.0.0 (from tensorflow==0.11.0)\n",
      "  Downloading protobuf-3.0.0-py2.py3-none-any.whl (342kB)\n",
      "\u001b[K    100% |################################| 348kB 2.5MB/s \n",
      "\u001b[?25hCollecting numpy>=1.11.0 (from tensorflow==0.11.0)\n",
      "  Downloading numpy-1.11.2-cp27-cp27mu-manylinux1_x86_64.whl (15.3MB)\n",
      "\u001b[K    100% |################################| 15.3MB 79kB/s \n",
      "\u001b[?25hCollecting wheel (from tensorflow==0.11.0)\n",
      "  Downloading wheel-0.29.0-py2.py3-none-any.whl (66kB)\n",
      "\u001b[K    100% |################################| 71kB 10.0MB/s \n",
      "\u001b[?25hCollecting six>=1.10.0 (from tensorflow==0.11.0)\n",
      "  Downloading six-1.10.0-py2.py3-none-any.whl\n",
      "Collecting funcsigs>=1; python_version < \"3.3\" (from mock>=2.0.0->tensorflow==0.11.0)\n",
      "  Downloading funcsigs-1.0.2-py2.py3-none-any.whl\n",
      "Collecting pbr>=0.11 (from mock>=2.0.0->tensorflow==0.11.0)\n",
      "  Downloading pbr-1.10.0-py2.py3-none-any.whl (96kB)\n",
      "\u001b[K    100% |################################| 102kB 9.8MB/s \n",
      "\u001b[?25hCollecting setuptools (from protobuf==3.0.0->tensorflow==0.11.0)\n",
      "  Downloading setuptools-28.8.0-py2.py3-none-any.whl (472kB)\n",
      "\u001b[K    100% |################################| 481kB 2.5MB/s \n",
      "\u001b[?25hInstalling collected packages: six, funcsigs, pbr, mock, setuptools, protobuf, numpy, wheel, tensorflow\n",
      "Successfully installed funcsigs-1.0.2 mock-2.0.0 numpy-1.11.2 pbr-1.10.0 protobuf-3.0.0 setuptools-23.0.0 six-1.10.0 tensorflow-0.11.0 wheel-0.29.0\n",
      "\u001b[33mYou are using pip version 8.1.2, however version 9.0.1 is available.\n",
      "You should consider upgrading via the 'pip install --upgrade pip' command.\u001b[0m\n"
     ]
    }
   ],
   "source": [
    "#Python2\n",
    "!pip install --ignore-installed --upgrade https://storage.googleapis.com/tensorflow/linux/cpu/tensorflow-0.11.0-cp27-none-linux_x86_64.whl"
   ]
  },
  {
   "cell_type": "code",
   "execution_count": 5,
   "metadata": {
    "collapsed": false
   },
   "outputs": [
    {
     "name": "stdout",
     "output_type": "stream",
     "text": [
      "Collecting pandas\n",
      "  Downloading pandas-0.19.1-cp27-cp27mu-manylinux1_x86_64.whl (16.7MB)\n",
      "\u001b[K    100% |################################| 16.7MB 69kB/s \n",
      "\u001b[?25hCollecting pytz>=2011k (from pandas)\n",
      "  Downloading pytz-2016.7-py2.py3-none-any.whl (480kB)\n",
      "\u001b[K    100% |################################| 481kB 2.7MB/s \n",
      "\u001b[?25hCollecting python-dateutil (from pandas)\n",
      "  Downloading python_dateutil-2.6.0-py2.py3-none-any.whl (194kB)\n",
      "\u001b[K    100% |################################| 194kB 5.8MB/s \n",
      "\u001b[?25hRequirement already up-to-date: numpy>=1.7.0 in /home/nbcommon/anaconda2_410/lib/python2.7/site-packages (from pandas)\n",
      "Requirement already up-to-date: six>=1.5 in /home/nbcommon/anaconda2_410/lib/python2.7/site-packages (from python-dateutil->pandas)\n",
      "Installing collected packages: pytz, python-dateutil, pandas\n",
      "  Found existing installation: pytz 2016.4\n",
      "\u001b[33m    DEPRECATION: Uninstalling a distutils installed project (pytz) has been deprecated and will be removed in a future version. This is due to the fact that uninstalling a distutils project will only partially uninstall the project.\u001b[0m\n",
      "    Uninstalling pytz-2016.4:\n",
      "      Successfully uninstalled pytz-2016.4\n",
      "  Found existing installation: python-dateutil 2.5.3\n",
      "    Uninstalling python-dateutil-2.5.3:\n",
      "      Successfully uninstalled python-dateutil-2.5.3\n",
      "  Found existing installation: pandas 0.18.1\n",
      "    Uninstalling pandas-0.18.1:\n",
      "      Successfully uninstalled pandas-0.18.1\n",
      "Successfully installed pandas-0.19.1 python-dateutil-2.6.0 pytz-2016.7\n",
      "\u001b[33mYou are using pip version 8.1.2, however version 9.0.1 is available.\n",
      "You should consider upgrading via the 'pip install --upgrade pip' command.\u001b[0m\n"
     ]
    }
   ],
   "source": [
    "#Python2\n",
    "!pip install --upgrade pandas"
   ]
  },
  {
   "cell_type": "code",
   "execution_count": null,
   "metadata": {
    "collapsed": false
   },
   "outputs": [],
   "source": [
    "#Python3\n",
    "#!pip install --ignore-installed --upgrade https://storage.googleapis.com/tensorflow/linux/cpu/tensorflow-0.11.0-cp35-cp35m-linux_x86_64.whl"
   ]
  },
  {
   "cell_type": "code",
   "execution_count": null,
   "metadata": {
    "collapsed": false
   },
   "outputs": [],
   "source": [
    "#Python3\n",
    "#!pip install --upgrade pandas"
   ]
  },
  {
   "cell_type": "code",
   "execution_count": null,
   "metadata": {
    "collapsed": true
   },
   "outputs": [],
   "source": []
  }
 ],
 "metadata": {
  "kernelspec": {
   "display_name": "Python 2",
   "language": "python",
   "name": "python2"
  },
  "language_info": {
   "codemirror_mode": {
    "name": "ipython",
    "version": 2
   },
   "file_extension": ".py",
   "mimetype": "text/x-python",
   "name": "python",
   "nbconvert_exporter": "python",
   "pygments_lexer": "ipython2",
   "version": "2.7.11"
  }
 },
 "nbformat": 4,
 "nbformat_minor": 1
}
